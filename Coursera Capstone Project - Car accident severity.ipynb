{
 "cells": [
  {
   "cell_type": "markdown",
   "metadata": {},
   "source": [
    "# Coursera Capstone Project - Car accident severity\n",
    "\n",
    "This is the capstone project from the IBM Data Science Profesional Certificate.\n",
    "\n",
    "##  Introduction\n",
    "\n",
    "Car Accidents are a leading cause of serius injury and death in the world. There is the common opinion that gathering statistics, facts and information about these accidents could help to understand what are the most important factors that lead to a traffic crash. Knowing this, Goverments may create a policy to reduce accidents, as well as severity.\n",
    "\n",
    "## Business Problem\n",
    "\n",
    "The purpouse of this project is to analyze the data provided by Seatle Police Department in order to obtain which attributes are more relevant when a car accident occurss.  \n",
    "\n",
    "\n",
    "## Data Section\n",
    "\n",
    "The [dataset](https://s3.us.cloud-object-storage.appdomain.cloud/cf-courses-data/CognitiveClass/DP0701EN/version-2/Data-Collisions.csv)  provided by SPD includes all types of collisions from 2004 to Present. A [document](https://s3.us.cloud-object-storage.appdomain.cloud/cf-courses-data/CognitiveClass/DP0701EN/version-2/Metadata.pdf) explained the metada is also attached. \n",
    "\n",
    "The most relevant data on this datase is:\n",
    "\n",
    "Attribute | Description\n",
    "----------|------------\n",
    "ADDRTYPE  | Collision address type\n",
    "SEVERITYCODE| A code that corresponds to the severity of the collision\n",
    "PERSONCOUNT| The total number of people involved in the collision\n",
    "PEDCOUNT | The number of pedestrians involved in the collision. \n",
    "PEDCYLCOUNT | The number of bicycles involved in the collision.\n",
    "VEHCOUNT | The number of vehicles involved in the collision.\n",
    "INJURIES | The number of total injuries in the collision\n",
    "SERIOUSINJURIES | The number of serious injuries in the collision.\n",
    "FATALITIES | The number of fatalities in the collision\n",
    "INCDTTM | The date and time of the incident\n",
    "JUNCTIONTYPE| Category of junction at which collision took place \n",
    "INATTENTIONIND|Whether or not collision was due to inattention.\n",
    "UNDERINFL| Whether or not a driver involved was under the influence of drugs or alcohol. \n",
    "WEATHER | A description of the weather conditions during the time of the collision. \n",
    "ROADCOND | The condition of the road during the collision. \n",
    "LIGHTCOND | The light conditions during the collision. \n",
    "SPEEDING | Whether or not speeding was a factor in the collision.\n",
    "\n",
    "\n"
   ]
  }
 ],
 "metadata": {
  "kernelspec": {
   "display_name": "Python 3",
   "language": "python",
   "name": "python3"
  },
  "language_info": {
   "codemirror_mode": {
    "name": "ipython",
    "version": 3
   },
   "file_extension": ".py",
   "mimetype": "text/x-python",
   "name": "python",
   "nbconvert_exporter": "python",
   "pygments_lexer": "ipython3",
   "version": "3.8.5"
  }
 },
 "nbformat": 4,
 "nbformat_minor": 4
}
